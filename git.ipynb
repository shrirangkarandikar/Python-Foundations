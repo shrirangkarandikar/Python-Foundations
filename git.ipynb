{
 "cells": [
  {
   "cell_type": "markdown",
   "metadata": {},
   "source": [
    "## Startup\n",
    "\n",
    "Read: https://git-scm.com/book/en/v2\n",
    "\n",
    "1. Install a git client on your computers\n",
    "On your computer\n",
    "2. Create a repository \n",
    "3. Add (a few files) to the repository (understand what you're doing!)\n",
    "4. Try changing the files and comparing differences with the repository\n",
    "\n",
    "Create a GitHub account\n",
    "5. -> clone your repository to github\n",
    "6. Create a new repository on github\n",
    "7. <- clone the github repository to your machine\n",
    "8. Work with a friend and make changes to the same repository in parallel. experiment!!\n",
    "Note that you should try to do the above steps using the command line, so you get comfortable with the actual commands"
   ]
  },
  {
   "cell_type": "markdown",
   "metadata": {},
   "source": [
    "Accessing the class material"
   ]
  },
  {
   "cell_type": "markdown",
   "metadata": {},
   "source": [
    "Doing the exercises"
   ]
  }
 ],
 "metadata": {
  "kernelspec": {
   "display_name": "Python 3",
   "language": "python",
   "name": "python3"
  },
  "language_info": {
   "codemirror_mode": {
    "name": "ipython",
    "version": 3
   },
   "file_extension": ".py",
   "mimetype": "text/x-python",
   "name": "python",
   "nbconvert_exporter": "python",
   "pygments_lexer": "ipython3",
   "version": "3.6.4"
  }
 },
 "nbformat": 4,
 "nbformat_minor": 2
}
